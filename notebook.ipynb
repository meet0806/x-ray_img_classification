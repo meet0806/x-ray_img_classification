{
 "cells": [
  {
   "cell_type": "markdown",
   "id": "85dc467a-5830-44c0-ab74-435be0e5593c",
   "metadata": {},
   "source": [
    "Pneumonia is one of the leading respiratory illnesses worldwide, and its timely and accurate diagnosis is essential for effective treatment. Manually reviewing chest X-rays is a critical step in this process, and AI can provide valuable support by helping to expedite the assessment. In your role as a consultant data scientist, you will test the ability of a deep learning model to distinguish pneumonia cases from normal images of lungs in chest X-rays.\n",
    "\n",
    "By fine-tuning a pre-trained convolutional neural network, specifically the ResNet-18 model, your task is to classify X-ray images into two categories: normal lungs and those affected by pneumonia. You can leverage its already trained weights and get an accurate classifier trained faster and with fewer resources.\n",
    "\n",
    "## The Data\n",
    "\n",
    "You have a dataset of chest X-rays that have been preprocessed for use with a ResNet-18 model. You can see a sample of 5 images from each category above. Upon unzipping the `chestxrays.zip` file (code provided below), you will find your dataset inside the `data/chestxrays` folder divided into `test` and `train` folders. \n",
    "\n",
    "There are 150 training images and 50 testing images for each category, NORMAL and PNEUMONIA (300 and 100 in total). For your convenience, this data has already been loaded into a `train_loader` and a `test_loader` using the `DataLoader` class from the PyTorch library. "
   ]
  },
  {
   "cell_type": "code",
   "execution_count": 6,
   "id": "cb1bedee-bcd5-4c80-a5ed-93df89af0295",
   "metadata": {
    "executionCancelledAt": null,
    "executionTime": 6807,
    "lastExecutedAt": 1743303643842,
    "lastExecutedByKernel": "6a5742e0-38c0-4e92-9d52-7cf330955706",
    "lastScheduledRunId": null,
    "lastSuccessfullyExecutedCode": "# Import required libraries\n# -------------------------\n# Data loading\nimport random\nimport numpy as np\nfrom torchvision.transforms import transforms\nfrom torchvision.datasets import ImageFolder\nfrom torch.utils.data import DataLoader\n\n# Train model\nimport torch\nfrom torchvision import models\nimport torch.nn as nn\nimport torch.optim as optim\n\n# Evaluate model\nfrom torchmetrics import Accuracy, F1Score\n\n# Set random seeds for reproducibility\ntorch.manual_seed(101010)\nnp.random.seed(101010)\nrandom.seed(101010)"
   },
   "outputs": [],
   "source": [
    "# Import required libraries\n",
    "# -------------------------\n",
    "# Data loading\n",
    "import random\n",
    "import numpy as np\n",
    "from torchvision.transforms import transforms\n",
    "from torchvision.datasets import ImageFolder\n",
    "from torch.utils.data import DataLoader\n",
    "\n",
    "# Train model\n",
    "import torch\n",
    "from torchvision import models\n",
    "import torch.nn as nn\n",
    "import torch.optim as optim\n",
    "\n",
    "# Evaluate model\n",
    "from torchmetrics import Accuracy, F1Score\n",
    "\n",
    "# Set random seeds for reproducibility\n",
    "torch.manual_seed(101010)\n",
    "np.random.seed(101010)\n",
    "random.seed(101010)"
   ]
  },
  {
   "cell_type": "code",
   "execution_count": 7,
   "id": "dd91680d-cb63-4876-9a51-4ee6bb250c7d",
   "metadata": {},
   "outputs": [],
   "source": [
    "import os\n",
    "import zipfile\n",
    "\n",
    "# Unzip the data folder\n",
    "if not os.path.exists('data/chestxrays'):\n",
    "    with zipfile.ZipFile('data/chestxrays.zip', 'r') as zip_ref:\n",
    "        zip_ref.extractall('data')"
   ]
  },
  {
   "cell_type": "code",
   "execution_count": 8,
   "id": "0cc5591a-8dc1-4d7f-88d2-3b1a59fb2a5f",
   "metadata": {},
   "outputs": [],
   "source": [
    "# Define the transformations to apply to the images for use with ResNet-18\n",
    "transform_mean = [0.485, 0.456, 0.406]\n",
    "transform_std =[0.229, 0.224, 0.225]\n",
    "transform = transforms.Compose([transforms.ToTensor(), \n",
    "                                transforms.Normalize(mean=transform_mean, std=transform_std)])\n",
    "\n",
    "# Apply the image transforms\n",
    "train_dataset = ImageFolder('data/chestxrays/train', transform=transform)\n",
    "test_dataset = ImageFolder('data/chestxrays/test', transform=transform)\n",
    "\n",
    "# Create data loaders\n",
    "train_loader = DataLoader(train_dataset, batch_size=len(train_dataset) // 2, shuffle=True)\n",
    "test_loader = DataLoader(test_dataset, batch_size=len(test_dataset))"
   ]
  },
  {
   "cell_type": "code",
   "execution_count": 18,
   "id": "c99cf95b-83f3-49e4-9777-4e70736452d8",
   "metadata": {},
   "outputs": [],
   "source": [
    "# Start coding here\n",
    "# Use as many cells as you need\n",
    "# Create DataLoader\n",
    "train_loader = DataLoader(train_dataset, batch_size=len(train_dataset) // 2, shuffle=True)\n",
    "test_loader = DataLoader(test_dataset, batch_size=len(test_dataset))\n",
    "# Load the pre-trained ResNet-18 model\n",
    "resnet18 = models.resnet18(weights='DEFAULT')\n",
    "\n",
    "# Feeze the parameters of the model\n",
    "for param in resnet18.parameters():\n",
    "    param.requires_grad = False\n",
    "\n",
    "# transform the last layer of the model to match the number of classes in the dataset\n",
    "resnet18.fc = nn.Linear(resnet18.fc.in_features, 1)\n",
    "\n"
   ]
  },
  {
   "cell_type": "code",
   "execution_count": 24,
   "id": "80ca441a",
   "metadata": {},
   "outputs": [],
   "source": [
    "# train model\n",
    "\n",
    "def train(model,criterion,optimizer,train_loader,num_epochs):\n",
    "    model.train()\n",
    "    for epoch in range(num_epochs):\n",
    "        running_loss = 0.0\n",
    "        running_acc = 0.0\n",
    "        for images, labels in train_loader:\n",
    "            # Zero the optimizer gradients\n",
    "            optimizer.zero_grad()\n",
    "            \n",
    "            # Ensure labels have the same dimensions as outputs\n",
    "            labels = labels.float().unsqueeze(1)\n",
    "\n",
    "            # Forward pass\n",
    "            outputs = model(images)\n",
    "            preds = torch.sigmoid(outputs) > 0.5 # Binary classification\n",
    "            loss = criterion(outputs, labels)\n",
    "\n",
    "            # Backward pass and optimizer step\n",
    "            loss.backward()\n",
    "            optimizer.step()\n",
    "\n",
    "            # Update the running loss and accuracy\n",
    "            running_loss += loss.item() * images.size(0)\n",
    "            running_acc += torch.sum(preds == labels.data)\n",
    "\n",
    "             # Calculate the average loss and accuracy for the epoch\n",
    "        train_loss = running_loss / len(train_dataset)\n",
    "        train_acc = running_acc.double() / len(train_dataset)\n",
    "\n",
    "        print(f'Epoch [{epoch+1}/{num_epochs}], Loss: {train_loss:.4f}, Accuracy: {train_acc:.4f}')"
   ]
  },
  {
   "cell_type": "code",
   "execution_count": 25,
   "id": "852b3a70",
   "metadata": {},
   "outputs": [
    {
     "name": "stdout",
     "output_type": "stream",
     "text": [
      "Epoch [1/3], Loss: 0.6302, Accuracy: 0.6667\n",
      "Epoch [2/3], Loss: 0.5836, Accuracy: 0.7733\n",
      "Epoch [3/3], Loss: 0.5441, Accuracy: 0.8133\n"
     ]
    }
   ],
   "source": [
    "#fine-tune the model\n",
    "num_epochs = 3\n",
    "learning_rate = 0.001\n",
    "optimizer = optim.Adam(resnet18.parameters(), lr=learning_rate)\n",
    "criterion = nn.BCEWithLogitsLoss()\n",
    "train(resnet18, criterion, optimizer, train_loader, num_epochs)\n"
   ]
  },
  {
   "cell_type": "markdown",
   "id": "70761893-e66f-40fe-8862-dac9b18a13ab",
   "metadata": {},
   "source": [
    "### Below is the provided model evaluation code. Run the below cell to help you evaluate the accuracy and F1-score of your fine-tuned model."
   ]
  },
  {
   "cell_type": "code",
   "execution_count": 27,
   "id": "7e0e1ad6-2f78-4a14-943b-8cc7c9dfe960",
   "metadata": {},
   "outputs": [
    {
     "name": "stdout",
     "output_type": "stream",
     "text": [
      "Test Accuracy: 0.5500\n",
      "Test F1 Score: 0.6565\n"
     ]
    }
   ],
   "source": [
    "#-------------------\n",
    "# Evaluate the model\n",
    "#-------------------\n",
    "\n",
    "# Set model to evaluation mode\n",
    "model = resnet18\n",
    "model.eval()\n",
    "\n",
    "# Initialize metrics for accuracy and F1 score\n",
    "accuracy_metric = Accuracy(task=\"binary\")\n",
    "f1_metric = F1Score(task=\"binary\")\n",
    "\n",
    "# Create lists store all predictions and labels\n",
    "all_preds = []\n",
    "all_labels = []\n",
    "\n",
    "# Disable gradient calculation for evaluation\n",
    "with torch.no_grad():\n",
    "  for inputs, labels in test_loader:\n",
    "    # Forward pass\n",
    "    outputs = model(inputs)\n",
    "    preds = torch.sigmoid(outputs).round()  # Round to 0 or 1\n",
    "\n",
    "    # Extend the lists with predictions and labels\n",
    "    all_preds.extend(preds.tolist())\n",
    "    all_labels.extend(labels.unsqueeze(1).tolist())\n",
    "\n",
    "    # Convert lists back to tensors\n",
    "    all_preds = torch.tensor(all_preds)\n",
    "    all_labels = torch.tensor(all_labels)\n",
    "\n",
    "    # Calculate accuracy and F1 score\n",
    "    test_acc = accuracy_metric(all_preds, all_labels).item()\n",
    "    test_f1 = f1_metric(all_preds, all_labels).item()\n",
    "\n",
    "# Print the results\n",
    "print(f\"Test Accuracy: {test_acc:.4f}\")\n",
    "print(f\"Test F1 Score: {test_f1:.4f}\")"
   ]
  },
  {
   "cell_type": "code",
   "execution_count": 28,
   "id": "c43a8212",
   "metadata": {},
   "outputs": [],
   "source": [
    "#save the model\n",
    "torch.save(resnet18.state_dict(), 'resnet18_chestxrays.pth')"
   ]
  },
  {
   "cell_type": "code",
   "execution_count": null,
   "id": "130f7bc6",
   "metadata": {},
   "outputs": [],
   "source": [
    "# can you use the fast api to create a web app that can take an image as input and return the prediction of the model?\n",
    "# Sure! Below is an example of how you can create a simple FastAPI web application to serve the model and make predictions on input images.\n",
    "# You can run this code in a separate Python file (e.g., `app.py`) and then run it using `uvicorn app:app --reload`.\n",
    "# Make sure to install FastAPI and Uvicorn if you haven't already:\n"
   ]
  }
 ],
 "metadata": {
  "colab": {
   "name": "Welcome to DataCamp Workspaces.ipynb",
   "provenance": []
  },
  "editor": "DataLab",
  "kernelspec": {
   "display_name": "Python 3",
   "language": "python",
   "name": "python3"
  },
  "language_info": {
   "codemirror_mode": {
    "name": "ipython",
    "version": 3
   },
   "file_extension": ".py",
   "mimetype": "text/x-python",
   "name": "python",
   "nbconvert_exporter": "python",
   "pygments_lexer": "ipython3",
   "version": "3.12.5"
  }
 },
 "nbformat": 4,
 "nbformat_minor": 5
}
